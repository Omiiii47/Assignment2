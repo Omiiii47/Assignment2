{
 "cells": [
  {
   "cell_type": "markdown",
   "id": "a18d5c6f-0db4-427f-9d0e-8ef070738904",
   "metadata": {},
   "source": [
    "Question 1"
   ]
  },
  {
   "cell_type": "code",
   "execution_count": 8,
   "id": "82ac8440-392e-44a1-b9ae-3caf31bed722",
   "metadata": {},
   "outputs": [],
   "source": [
    "# a = 34\n",
    "# this is the example of single line comment"
   ]
  },
  {
   "cell_type": "code",
   "execution_count": 9,
   "id": "4539d585-da2e-4cba-ada5-55ffb120b936",
   "metadata": {},
   "outputs": [
    {
     "ename": "NameError",
     "evalue": "name 'a' is not defined",
     "output_type": "error",
     "traceback": [
      "\u001b[0;31m---------------------------------------------------------------------------\u001b[0m",
      "\u001b[0;31mNameError\u001b[0m                                 Traceback (most recent call last)",
      "Cell \u001b[0;32mIn[9], line 1\u001b[0m\n\u001b[0;32m----> 1\u001b[0m \u001b[43ma\u001b[49m\n",
      "\u001b[0;31mNameError\u001b[0m: name 'a' is not defined"
     ]
    }
   ],
   "source": [
    "a"
   ]
  },
  {
   "cell_type": "code",
   "execution_count": 10,
   "id": "7d62364e-658e-44db-a929-0fce958effaa",
   "metadata": {},
   "outputs": [],
   "source": [
    "# by putting '#' before the code we can comment code in python"
   ]
  },
  {
   "cell_type": "code",
   "execution_count": 12,
   "id": "86272c05-bf28-4a5a-8b37-5aef646e753d",
   "metadata": {},
   "outputs": [
    {
     "data": {
      "text/plain": [
       "\"hey there i am using this app\\ni love it and i learned many thing because of this app and can't wait to learn more \""
      ]
     },
     "execution_count": 12,
     "metadata": {},
     "output_type": "execute_result"
    }
   ],
   "source": [
    "'''hey there i am using this app\n",
    "i love it and i learned many thing because of this app and can't wait to learn more \n",
    "this is the example of multiline comment'''"
   ]
  },
  {
   "cell_type": "code",
   "execution_count": 13,
   "id": "396ed62b-559c-4047-ab6c-4825a9244a39",
   "metadata": {},
   "outputs": [],
   "source": [
    "# this is the example of single line comment"
   ]
  },
  {
   "cell_type": "code",
   "execution_count": null,
   "id": "15aaf894-e8d8-4b54-99c4-1de068f733c7",
   "metadata": {},
   "outputs": [],
   "source": []
  },
  {
   "cell_type": "markdown",
   "id": "34c9e41e-6e41-46e6-97ea-bf3848b41166",
   "metadata": {},
   "source": [
    "Question 2"
   ]
  },
  {
   "cell_type": "code",
   "execution_count": 20,
   "id": "07102657-4e44-4de9-9ef7-68bc8c493654",
   "metadata": {},
   "outputs": [],
   "source": [
    "a = 343\n",
    "c = \"hey there i am using whats app\"\n",
    "d= 343 + 34j"
   ]
  },
  {
   "cell_type": "code",
   "execution_count": 21,
   "id": "da3cfb07-45f6-4049-b6ea-5f9799fe3aaf",
   "metadata": {},
   "outputs": [],
   "source": [
    "#here a , c and d are variables"
   ]
  },
  {
   "cell_type": "code",
   "execution_count": 22,
   "id": "9be4ac34-3e7f-4577-bf85-9e6f039dd0cd",
   "metadata": {},
   "outputs": [],
   "source": [
    "# we can define variables by some  numeric values or string or floating point number "
   ]
  },
  {
   "cell_type": "code",
   "execution_count": null,
   "id": "bbc23890-5a94-46ca-87dd-4f626584a6d2",
   "metadata": {},
   "outputs": [],
   "source": []
  },
  {
   "cell_type": "markdown",
   "id": "7cdf784d-19ca-4402-8464-246e66dd6657",
   "metadata": {},
   "source": [
    "Question 3"
   ]
  },
  {
   "cell_type": "code",
   "execution_count": 23,
   "id": "b1d60dc0-b63d-4d04-a51d-9c1ba1746c9c",
   "metadata": {},
   "outputs": [],
   "source": [
    " a = 34\n"
   ]
  },
  {
   "cell_type": "code",
   "execution_count": 24,
   "id": "981ce021-3409-4012-ac40-d2e15b1742cd",
   "metadata": {},
   "outputs": [
    {
     "data": {
      "text/plain": [
       "int"
      ]
     },
     "execution_count": 24,
     "metadata": {},
     "output_type": "execute_result"
    }
   ],
   "source": [
    "type(a)"
   ]
  },
  {
   "cell_type": "code",
   "execution_count": 25,
   "id": "fcb1058e-b129-49ce-9126-8a27272abd84",
   "metadata": {},
   "outputs": [
    {
     "data": {
      "text/plain": [
       "'34'"
      ]
     },
     "execution_count": 25,
     "metadata": {},
     "output_type": "execute_result"
    }
   ],
   "source": [
    "str(a)"
   ]
  },
  {
   "cell_type": "code",
   "execution_count": 27,
   "id": "07b89a42-d2a9-499b-8a8b-b23169f1fc81",
   "metadata": {},
   "outputs": [
    {
     "data": {
      "text/plain": [
       "34.0"
      ]
     },
     "execution_count": 27,
     "metadata": {},
     "output_type": "execute_result"
    }
   ],
   "source": [
    "float(a)"
   ]
  },
  {
   "cell_type": "code",
   "execution_count": 28,
   "id": "6f8df9a4-5ef9-4a7c-a0c9-f7943aee0ad9",
   "metadata": {},
   "outputs": [],
   "source": [
    "#by above examples we can convert one datatype into another datatype\n"
   ]
  },
  {
   "cell_type": "code",
   "execution_count": 29,
   "id": "4467876b-e359-42ac-9d0d-83124393d8f7",
   "metadata": {},
   "outputs": [
    {
     "data": {
      "text/plain": [
       "int"
      ]
     },
     "execution_count": 29,
     "metadata": {},
     "output_type": "execute_result"
    }
   ],
   "source": [
    "#but if you want to change one data type into another then:\n",
    "t= 5\n",
    "type (t)"
   ]
  },
  {
   "cell_type": "code",
   "execution_count": 30,
   "id": "f9691527-d7fb-444d-9b1c-95710ced1fa4",
   "metadata": {},
   "outputs": [],
   "source": [
    "f = str(t)"
   ]
  },
  {
   "cell_type": "code",
   "execution_count": 31,
   "id": "30cd3e92-c613-453e-84ed-195b40a38129",
   "metadata": {},
   "outputs": [
    {
     "data": {
      "text/plain": [
       "'5'"
      ]
     },
     "execution_count": 31,
     "metadata": {},
     "output_type": "execute_result"
    }
   ],
   "source": [
    "f"
   ]
  },
  {
   "cell_type": "code",
   "execution_count": 32,
   "id": "61fef2ea-3406-4ca8-9386-2b12b7e7a073",
   "metadata": {},
   "outputs": [
    {
     "data": {
      "text/plain": [
       "str"
      ]
     },
     "execution_count": 32,
     "metadata": {},
     "output_type": "execute_result"
    }
   ],
   "source": [
    "type(f)"
   ]
  },
  {
   "cell_type": "code",
   "execution_count": null,
   "id": "5d15da5b-b190-466e-80b0-66ec7066c56b",
   "metadata": {},
   "outputs": [],
   "source": []
  },
  {
   "cell_type": "markdown",
   "id": "30479037-d931-4c25-b655-918c1eceadee",
   "metadata": {},
   "source": [
    "Question 4"
   ]
  },
  {
   "cell_type": "code",
   "execution_count": 33,
   "id": "ecaf2b95-8209-41be-bd13-9e64d467d6eb",
   "metadata": {},
   "outputs": [],
   "source": [
    "# jsut go to command prompt type python and then you can write python script from command line"
   ]
  },
  {
   "cell_type": "code",
   "execution_count": null,
   "id": "64c17c7f-01dd-48f7-902b-13bd05d69ad9",
   "metadata": {},
   "outputs": [],
   "source": []
  },
  {
   "cell_type": "markdown",
   "id": "60a052f5-9d47-438a-861b-43976c79e5e9",
   "metadata": {},
   "source": [
    "Question 5"
   ]
  },
  {
   "cell_type": "code",
   "execution_count": 35,
   "id": "2b6c1975-0e29-437c-b112-9aa048124038",
   "metadata": {},
   "outputs": [],
   "source": [
    "my_list = [1,2,3,4,5]\n",
    "sub_list = []"
   ]
  },
  {
   "cell_type": "code",
   "execution_count": 39,
   "id": "b05cc3e5-a039-47a1-9f33-2e611d39506a",
   "metadata": {},
   "outputs": [],
   "source": [
    "sub_list = my_list[1:3]"
   ]
  },
  {
   "cell_type": "code",
   "execution_count": 40,
   "id": "6602abd8-a0fb-4e14-9d8a-f19811d79a2c",
   "metadata": {},
   "outputs": [
    {
     "data": {
      "text/plain": [
       "[2, 3]"
      ]
     },
     "execution_count": 40,
     "metadata": {},
     "output_type": "execute_result"
    }
   ],
   "source": [
    "sub_list"
   ]
  },
  {
   "cell_type": "code",
   "execution_count": null,
   "id": "c1d44475-43b6-4eef-b6c4-e8d7ef156b9c",
   "metadata": {},
   "outputs": [],
   "source": []
  },
  {
   "cell_type": "markdown",
   "id": "cd73c977-1733-4a3b-8643-9833d8237513",
   "metadata": {},
   "source": [
    "Question 6"
   ]
  },
  {
   "cell_type": "code",
   "execution_count": 42,
   "id": "8f340a1d-355f-4424-b484-f6857b2825ef",
   "metadata": {},
   "outputs": [],
   "source": [
    "# Complex number in mathematics contains 2 parts real and imaginary "
   ]
  },
  {
   "cell_type": "code",
   "execution_count": 44,
   "id": "277c9329-4edf-4353-adec-8b2090a39e93",
   "metadata": {},
   "outputs": [],
   "source": [
    "a = 343 + 34j\n",
    "b = 23 - 23j\n",
    "c =45 + 343j"
   ]
  },
  {
   "cell_type": "code",
   "execution_count": 45,
   "id": "416fc61f-d7a2-4434-ad2a-0586748061e6",
   "metadata": {},
   "outputs": [],
   "source": [
    "#by above examples we can obtain complex number in python\n"
   ]
  },
  {
   "cell_type": "code",
   "execution_count": null,
   "id": "39b16285-8843-40e0-999b-5ce9cd7bab42",
   "metadata": {},
   "outputs": [],
   "source": []
  },
  {
   "cell_type": "markdown",
   "id": "e060a053-c3de-4594-8ef0-9db85381f763",
   "metadata": {},
   "source": [
    "Question 7"
   ]
  },
  {
   "cell_type": "code",
   "execution_count": 46,
   "id": "36c227f5-7b0f-480a-9fab-e9a1815c5b4e",
   "metadata": {},
   "outputs": [],
   "source": [
    "age = 25"
   ]
  },
  {
   "cell_type": "code",
   "execution_count": 47,
   "id": "a87ef537-4ec5-4581-8999-e170fbd55781",
   "metadata": {},
   "outputs": [
    {
     "data": {
      "text/plain": [
       "25"
      ]
     },
     "execution_count": 47,
     "metadata": {},
     "output_type": "execute_result"
    }
   ],
   "source": [
    "age "
   ]
  },
  {
   "cell_type": "code",
   "execution_count": 48,
   "id": "e0c14742-0e0b-40bd-bca1-6f76887eec66",
   "metadata": {},
   "outputs": [],
   "source": [
    "# this is the correct way to declare variable age and assigning value to it"
   ]
  },
  {
   "cell_type": "code",
   "execution_count": null,
   "id": "ee9ec05f-3bec-47cc-8cd6-3d829a01ce2f",
   "metadata": {},
   "outputs": [],
   "source": []
  },
  {
   "cell_type": "markdown",
   "id": "0f59bece-a793-4515-8992-1ea66456a0f0",
   "metadata": {},
   "source": [
    "Question 8"
   ]
  },
  {
   "cell_type": "code",
   "execution_count": 49,
   "id": "547d1d18-1171-4c6d-b536-d7bab401281b",
   "metadata": {},
   "outputs": [],
   "source": [
    "price = 9.99"
   ]
  },
  {
   "cell_type": "code",
   "execution_count": 50,
   "id": "4c22ede0-ae04-4434-b7a6-e22f565e84e9",
   "metadata": {},
   "outputs": [
    {
     "data": {
      "text/plain": [
       "float"
      ]
     },
     "execution_count": 50,
     "metadata": {},
     "output_type": "execute_result"
    }
   ],
   "source": [
    "type(price)"
   ]
  },
  {
   "cell_type": "code",
   "execution_count": 51,
   "id": "2dfc08bd-b643-45f4-b99c-26e43393e966",
   "metadata": {},
   "outputs": [],
   "source": [
    "# this variable has float datatype"
   ]
  },
  {
   "cell_type": "code",
   "execution_count": null,
   "id": "93dc5b0e-b9c1-4bad-8f92-06282e1be4be",
   "metadata": {},
   "outputs": [],
   "source": []
  },
  {
   "cell_type": "markdown",
   "id": "939da4e0-1c2b-4bc6-b0d0-9626fa45c6c7",
   "metadata": {},
   "source": [
    "Question 9"
   ]
  },
  {
   "cell_type": "code",
   "execution_count": 52,
   "id": "de53dcec-1615-4d99-bec7-fe4c474fe5d9",
   "metadata": {},
   "outputs": [],
   "source": [
    "name = \"Om naik\""
   ]
  },
  {
   "cell_type": "code",
   "execution_count": 53,
   "id": "2db421af-f9ab-411d-b313-1c41c4dfd533",
   "metadata": {},
   "outputs": [
    {
     "name": "stdout",
     "output_type": "stream",
     "text": [
      "Om naik\n"
     ]
    }
   ],
   "source": [
    "print(name)"
   ]
  },
  {
   "cell_type": "code",
   "execution_count": 54,
   "id": "07467974-9fae-4914-ac03-47755986beaf",
   "metadata": {},
   "outputs": [],
   "source": [
    "#this is how we can print in python"
   ]
  },
  {
   "cell_type": "code",
   "execution_count": null,
   "id": "fdcef7eb-29f4-4b9d-9774-7eb35c68c340",
   "metadata": {},
   "outputs": [],
   "source": []
  },
  {
   "cell_type": "markdown",
   "id": "81830b1d-6384-4898-bf5d-e4e212d05855",
   "metadata": {},
   "source": [
    "Question 10"
   ]
  },
  {
   "cell_type": "code",
   "execution_count": 55,
   "id": "322d4d46-a02f-487e-85fa-e82212a01380",
   "metadata": {},
   "outputs": [],
   "source": [
    "a = \"Hello, World!\""
   ]
  },
  {
   "cell_type": "code",
   "execution_count": 56,
   "id": "f26c15ff-fff9-4a6d-9003-acec7700a3ba",
   "metadata": {},
   "outputs": [
    {
     "data": {
      "text/plain": [
       "'World'"
      ]
     },
     "execution_count": 56,
     "metadata": {},
     "output_type": "execute_result"
    }
   ],
   "source": [
    "a[7:12]"
   ]
  },
  {
   "cell_type": "code",
   "execution_count": null,
   "id": "72dbd152-0b48-4638-a38a-398c530cbcee",
   "metadata": {},
   "outputs": [],
   "source": []
  },
  {
   "cell_type": "markdown",
   "id": "a7ba8033-a492-4937-92d9-1cbaac45f56f",
   "metadata": {},
   "source": [
    "Question 11"
   ]
  },
  {
   "cell_type": "code",
   "execution_count": 57,
   "id": "ff319c09-4a6a-4b1e-a05e-eaeaf0c2eafd",
   "metadata": {},
   "outputs": [],
   "source": [
    "is_student = True"
   ]
  },
  {
   "cell_type": "code",
   "execution_count": null,
   "id": "bc6da89b-3123-4cd6-93ce-2d2ca32f4036",
   "metadata": {},
   "outputs": [],
   "source": [
    "# i am a student"
   ]
  }
 ],
 "metadata": {
  "kernelspec": {
   "display_name": "Python 3 (ipykernel)",
   "language": "python",
   "name": "python3"
  },
  "language_info": {
   "codemirror_mode": {
    "name": "ipython",
    "version": 3
   },
   "file_extension": ".py",
   "mimetype": "text/x-python",
   "name": "python",
   "nbconvert_exporter": "python",
   "pygments_lexer": "ipython3",
   "version": "3.10.8"
  }
 },
 "nbformat": 4,
 "nbformat_minor": 5
}
